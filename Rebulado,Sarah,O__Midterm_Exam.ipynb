{
  "nbformat": 4,
  "nbformat_minor": 0,
  "metadata": {
    "colab": {
      "provenance": [],
      "authorship_tag": "ABX9TyMMBbZfiypvMKVUYboh/alW",
      "include_colab_link": true
    },
    "kernelspec": {
      "name": "python3",
      "display_name": "Python 3"
    },
    "language_info": {
      "name": "python"
    }
  },
  "cells": [
    {
      "cell_type": "markdown",
      "metadata": {
        "id": "view-in-github",
        "colab_type": "text"
      },
      "source": [
        "<a href=\"https://colab.research.google.com/github/SarahRebulado/CPEN65-2/blob/main/Rebulado%2CSarah%2CO__Midterm_Exam.ipynb\" target=\"_parent\"><img src=\"https://colab.research.google.com/assets/colab-badge.svg\" alt=\"Open In Colab\"/></a>"
      ]
    },
    {
      "cell_type": "markdown",
      "source": [
        "1. Write a Python program to create an array of 10 integers and display the array\n",
        "items. Access individual elements through indexes and compute for the sum."
      ],
      "metadata": {
        "id": "pTKiA0ot-NXN"
      }
    },
    {
      "cell_type": "code",
      "execution_count": 50,
      "metadata": {
        "colab": {
          "base_uri": "https://localhost:8080/"
        },
        "id": "xWlJwyRC-A0a",
        "outputId": "94c645fb-7962-40f2-82f9-04f7b310b37a"
      },
      "outputs": [
        {
          "output_type": "stream",
          "name": "stdout",
          "text": [
            "array('i', [1, 2, 3, 4, 5, 6, 7, 8, 9, 10])\n",
            "Enter Index1\n",
            "Value of index:  1 = 2\n",
            "Enter Index5\n",
            "Value of index:  5 = 6\n",
            "Enter Index6\n",
            "Value of index:  6 = 7\n",
            "Total Sum of array =  55\n"
          ]
        }
      ],
      "source": [
        "import array as array\n",
        "a = array.array('i', [1,2,3,4,5,6,7,8,9,10])\n",
        "print(a)\n",
        "\n",
        "counter = 0\n",
        "num=[]\n",
        "\n",
        "while True:\n",
        "  if counter == 3:\n",
        "    break\n",
        "\n",
        "  else:\n",
        "    index_1 = int(input(\"Enter Index\"))\n",
        "    i_a= int(index_1)\n",
        "    i_1= a[i_a]\n",
        "    num.append(index_1)\n",
        "    counter= counter+1\n",
        "    print(\"Value of index: \", index_1, \"=\", i_1)\n",
        "\n",
        "Sum = sum(a)\n",
        "print(\"Total Sum of array = \", Sum)"
      ]
    },
    {
      "cell_type": "markdown",
      "source": [
        "2. Write a Python program to append a new item to the end of the array. Original\n",
        "array: numbers = [1, 2, 3, 4, 5, 6, 7, 8, 9, 10]"
      ],
      "metadata": {
        "id": "muPIE5Je-WG7"
      }
    },
    {
      "cell_type": "code",
      "source": [
        "import array as array\n",
        "a = array.array('i',[1,2,3,4,5,6,7,8,9,10])\n",
        "print(\"Original array: number =\", a)\n",
        "\n",
        "print()\n",
        "\n",
        "a.append(11)\n",
        "print(\"Array after appending: number= \", a)\n",
        "\n",
        "print()"
      ],
      "metadata": {
        "colab": {
          "base_uri": "https://localhost:8080/"
        },
        "id": "w8hiwioN-pnW",
        "outputId": "e7920298-264c-47ca-9a70-d7a580842709"
      },
      "execution_count": 18,
      "outputs": [
        {
          "output_type": "stream",
          "name": "stdout",
          "text": [
            "Original array: number = array('i', [1, 2, 3, 4, 5, 6, 7, 8, 9, 10])\n",
            "\n",
            "Array after appending: number=  array('i', [1, 2, 3, 4, 5, 6, 7, 8, 9, 10, 11])\n",
            "\n"
          ]
        }
      ]
    },
    {
      "cell_type": "markdown",
      "source": [
        "3. Write a Python program to insert a new item before the second element in an\n",
        "existing array. Original array: numbers = [1, 2, 3, 4, 5, 6, 7, 8, 9, 10]"
      ],
      "metadata": {
        "id": "ZHe6v8cm-qZz"
      }
    },
    {
      "cell_type": "code",
      "source": [
        "import array as array\n",
        "a = array.array('i',[1,2,3,4,5,6,7,8,9,10])\n",
        "print(\"Original array: number =\", a)\n",
        "print()\n",
        "\n",
        "a.append(11)\n",
        "print(\"Array after appending: number= \", a)\n",
        "print()\n",
        "\n",
        "a.insert(1,12)\n",
        "print(\"Array after inserting: \", a)"
      ],
      "metadata": {
        "colab": {
          "base_uri": "https://localhost:8080/"
        },
        "id": "9TTO8Szy-taY",
        "outputId": "22a4a08c-b3f5-4afd-b51b-2ea4b5164392"
      },
      "execution_count": 21,
      "outputs": [
        {
          "output_type": "stream",
          "name": "stdout",
          "text": [
            "Original array: number = array('i', [1, 2, 3, 4, 5, 6, 7, 8, 9, 10])\n",
            "\n",
            "Array after appending: number=  array('i', [1, 2, 3, 4, 5, 6, 7, 8, 9, 10, 11])\n",
            "\n",
            "Array after inserting:  array('i', [1, 12, 2, 3, 4, 5, 6, 7, 8, 9, 10, 11])\n"
          ]
        }
      ]
    },
    {
      "cell_type": "markdown",
      "source": [
        "4. Write a Python program to reverse the order of the items in the array. Original\n",
        "array: numbers = [5, 4, 3, 2, 1]"
      ],
      "metadata": {
        "id": "6vXqrAbc-t4K"
      }
    },
    {
      "cell_type": "code",
      "source": [
        "import array as array\n",
        "a= array.array('i', [5,4,3,2,1])\n",
        "print(\"Original array: number = \", a)\n",
        "print()\n",
        "\n",
        "a.reverse()\n",
        "print(\"Reversed array: number =\", a)\n",
        "print()"
      ],
      "metadata": {
        "colab": {
          "base_uri": "https://localhost:8080/"
        },
        "id": "9GuPZ8kB-wpR",
        "outputId": "05f18bb3-9127-472a-ceec-171b22f660fb"
      },
      "execution_count": 22,
      "outputs": [
        {
          "output_type": "stream",
          "name": "stdout",
          "text": [
            "Original array: number =  array('i', [5, 4, 3, 2, 1])\n",
            "\n",
            "Reversed array: number = array('i', [1, 2, 3, 4, 5])\n",
            "\n"
          ]
        }
      ]
    },
    {
      "cell_type": "markdown",
      "source": [
        "5. Write a Python program to get the length of the array. Original array: numbers =\n",
        "[5, 4, 3, 2, 1]"
      ],
      "metadata": {
        "id": "p_0a3aub-xRN"
      }
    },
    {
      "cell_type": "code",
      "source": [
        "import array as array\n",
        "numbers = [5,4,3,2,1]\n",
        "print(\"Original array: \", numbers)\n",
        "a= len(numbers)\n",
        "print(\"Length of an array: \",a)"
      ],
      "metadata": {
        "colab": {
          "base_uri": "https://localhost:8080/"
        },
        "id": "_q0cu1EN-zRC",
        "outputId": "18f09e74-7aa7-4a53-bd70-86a02d07f580"
      },
      "execution_count": 25,
      "outputs": [
        {
          "output_type": "stream",
          "name": "stdout",
          "text": [
            "Original array:  [5, 4, 3, 2, 1]\n",
            "Length of an array:  5\n"
          ]
        }
      ]
    }
  ]
}